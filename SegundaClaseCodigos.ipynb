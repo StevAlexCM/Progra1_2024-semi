{
  "nbformat": 4,
  "nbformat_minor": 0,
  "metadata": {
    "colab": {
      "provenance": [],
      "authorship_tag": "ABX9TyPOLbJJrdB8n0ZOGtXVyIwU",
      "include_colab_link": true
    },
    "kernelspec": {
      "name": "python3",
      "display_name": "Python 3"
    },
    "language_info": {
      "name": "python"
    }
  },
  "cells": [
    {
      "cell_type": "markdown",
      "metadata": {
        "id": "view-in-github",
        "colab_type": "text"
      },
      "source": [
        "<a href=\"https://colab.research.google.com/github/StevAlexCM/Progra1_2024-semi/blob/main/SegundaClaseCodigos.ipynb\" target=\"_parent\"><img src=\"https://colab.research.google.com/assets/colab-badge.svg\" alt=\"Open In Colab\"/></a>"
      ]
    },
    {
      "cell_type": "code",
      "execution_count": 1,
      "metadata": {
        "colab": {
          "base_uri": "https://localhost:8080/"
        },
        "id": "Mk7efW3kUfTu",
        "outputId": "6062fc56-053c-4293-e8bc-9378df93a98d"
      },
      "outputs": [
        {
          "output_type": "stream",
          "name": "stdout",
          "text": [
            "Hola mundo!\n",
            "Bienvenidos a la clase de programacion computacional III\n"
          ]
        }
      ],
      "source": [
        "print(\"Hola mundo!\")\n",
        "print(\"Bienvenidos a la clase de programacion computacional III\")"
      ]
    },
    {
      "cell_type": "code",
      "source": [
        "nombre = \"Steven Campos\"\n",
        "edad = 19\n",
        "print (nombre, edad)\n",
        "\n",
        "edad = \"diecinueve\"\n",
        "print (\"tu edad: \" , edad)"
      ],
      "metadata": {
        "colab": {
          "base_uri": "https://localhost:8080/"
        },
        "id": "3I5zViiPVB2v",
        "outputId": "3b30c8e9-9875-4e37-acd0-dc4e2c24f89e"
      },
      "execution_count": 2,
      "outputs": [
        {
          "output_type": "stream",
          "name": "stdout",
          "text": [
            "Steven Campos 19\n",
            "tu edad:  diecinueve\n"
          ]
        }
      ]
    },
    {
      "cell_type": "code",
      "source": [
        "num1 = 7\n",
        "num2= 6.5\n",
        "suma = num1 + num2\n",
        "print(\"La suma es:\", suma)"
      ],
      "metadata": {
        "colab": {
          "base_uri": "https://localhost:8080/"
        },
        "id": "6iIge-InWLPH",
        "outputId": "16fc8ba5-e6bb-4534-fe5c-55a8518f38a8"
      },
      "execution_count": 3,
      "outputs": [
        {
          "output_type": "stream",
          "name": "stdout",
          "text": [
            "La suma es: 13.5\n"
          ]
        }
      ]
    },
    {
      "cell_type": "code",
      "source": [
        "num1 = float (input(\"Num1: \"))\n",
        "num2 = float (input(\"Num2: \"))\n",
        "suma = num1 + num2\n",
        "print(\"La suma es: \", suma)"
      ],
      "metadata": {
        "colab": {
          "base_uri": "https://localhost:8080/"
        },
        "id": "a8qBZzF1WOOR",
        "outputId": "eba019b2-0ec3-4044-ac34-05520799769f"
      },
      "execution_count": 5,
      "outputs": [
        {
          "output_type": "stream",
          "name": "stdout",
          "text": [
            "Num1: 5\n",
            "Num2: 3\n",
            "La suma es:  8.0\n"
          ]
        }
      ]
    },
    {
      "cell_type": "code",
      "source": [
        "num1 = float(input(\"Num1: \"))\n",
        "num2 = float(input(\"Num2: \"))\n",
        "resta = num1 - num2\n",
        "print(\"La resta es: \", resta)"
      ],
      "metadata": {
        "colab": {
          "base_uri": "https://localhost:8080/"
        },
        "id": "l17QaFasXxOX",
        "outputId": "7f2a4ead-3bef-4121-c431-5d3e19244af0"
      },
      "execution_count": 6,
      "outputs": [
        {
          "output_type": "stream",
          "name": "stdout",
          "text": [
            "Num1: 8\n",
            "Num2: 3\n",
            "La resta es:  5.0\n"
          ]
        }
      ]
    },
    {
      "cell_type": "code",
      "source": [
        "# entero\n",
        "num1 = 6\n",
        "print (str(num1) + \" Esto es un numero entero\")\n",
        "\n",
        "#Decimal\n",
        "num2 = 7.5\n",
        "print(num2, \"Esto es un numero decimal\")\n",
        "\n",
        "#Boolenao\n",
        "esMayor = True\n",
        "print(esMayor, \"Esto es un booleano\")\n",
        "\n",
        "#Cadena\n",
        "nombre = \"Steven Campos\"\n",
        "print(nombre, \"Esto es una cadena\")\n",
        "print(nombre, \"Letra inicial:\", nombre[0],\"Un valor en especifico:\", nombre[5], \"rango:\", nombre[0:6],\"Comenzar desde el final:\", nombre[-1])\n",
        "\n",
        "#Fecha\n",
        "from datetime import datetime, date, time\n",
        "fecha = datetime.now()\n",
        "print(fecha, fecha.date(), fecha.time())\n",
        "print(type(fecha))\n",
        "\n",
        "\n",
        "fechaPersonalizada = date(2025,8,1)\n",
        "print(fechaPersonalizada)\n"
      ],
      "metadata": {
        "colab": {
          "base_uri": "https://localhost:8080/"
        },
        "id": "mFEJVFUmX5oD",
        "outputId": "5d314d74-54eb-4e31-b27a-569b33a25c29"
      },
      "execution_count": 7,
      "outputs": [
        {
          "output_type": "stream",
          "name": "stdout",
          "text": [
            "6 Esto es un numero entero\n",
            "7.5 Esto es un numero decimal\n",
            "True Esto es un booleano\n",
            "Steven Campos Esto es una cadena\n",
            "Steven Campos Letra inicial: S Un valor en especifico: n rango: Steven Comenzar desde el final: s\n",
            "2025-07-29 13:30:13.477512 2025-07-29 13:30:13.477512\n",
            "<class 'datetime.datetime'>\n",
            "2025-08-01\n"
          ]
        }
      ]
    },
    {
      "cell_type": "code",
      "source": [
        "#Suma\n",
        "def suma(num1, num2):\n",
        "    return num1 + num2"
      ],
      "metadata": {
        "id": "ANjgzoipYHRd"
      },
      "execution_count": 8,
      "outputs": []
    },
    {
      "cell_type": "code",
      "source": [
        "print( \"la suma de 5 + 8 es: \", suma(5,8))"
      ],
      "metadata": {
        "colab": {
          "base_uri": "https://localhost:8080/"
        },
        "id": "aP7oo57TYNgz",
        "outputId": "3d1a5141-f296-42c0-a81a-97e4a843d053"
      },
      "execution_count": 9,
      "outputs": [
        {
          "output_type": "stream",
          "name": "stdout",
          "text": [
            "la suma de 5 + 8 es:  13\n"
          ]
        }
      ]
    },
    {
      "cell_type": "code",
      "source": [
        "num1 = float(input(\"Num1: \"))\n",
        "num2 = float(input(\"Num2: \"))\n",
        "respuesta = suma(num1, num2)\n",
        "print(\"La suma es: \", respuesta)"
      ],
      "metadata": {
        "colab": {
          "base_uri": "https://localhost:8080/"
        },
        "id": "ZfhA2CpVYYKV",
        "outputId": "ad816809-92df-4266-fb21-8ec19e10e53a"
      },
      "execution_count": 10,
      "outputs": [
        {
          "output_type": "stream",
          "name": "stdout",
          "text": [
            "Num1: 8\n",
            "Num2: 10\n",
            "La suma es:  18.0\n"
          ]
        }
      ]
    },
    {
      "cell_type": "markdown",
      "source": [
        "Tarea."
      ],
      "metadata": {
        "id": "AWwskTHHYgrZ"
      }
    },
    {
      "cell_type": "code",
      "source": [
        "#Resta\n",
        "def resta(num1, num2):\n",
        "    return num1 - num2"
      ],
      "metadata": {
        "id": "ly6OlMaNYlTf"
      },
      "execution_count": 11,
      "outputs": []
    },
    {
      "cell_type": "code",
      "source": [
        "print( \"la resta de 5 - 8 es: \", resta(5,8))"
      ],
      "metadata": {
        "colab": {
          "base_uri": "https://localhost:8080/"
        },
        "id": "hNyGL-hHYtxu",
        "outputId": "f1013abf-010c-4131-d9e2-689a4dc3c2d2"
      },
      "execution_count": 12,
      "outputs": [
        {
          "output_type": "stream",
          "name": "stdout",
          "text": [
            "la resta de 5 - 8 es:  -3\n"
          ]
        }
      ]
    },
    {
      "cell_type": "code",
      "source": [
        "num1 = float(input(\"Num1: \"))\n",
        "num2 = float(input(\"Num2: \"))\n",
        "respuesta = resta(num1, num2)\n",
        "print(\"La resta es: \", respuesta)"
      ],
      "metadata": {
        "colab": {
          "base_uri": "https://localhost:8080/"
        },
        "id": "6ttGLBaGYvFB",
        "outputId": "d808c07d-0987-4da2-bc46-8f7c713eabe6"
      },
      "execution_count": 13,
      "outputs": [
        {
          "output_type": "stream",
          "name": "stdout",
          "text": [
            "Num1: 9\n",
            "Num2: 6\n",
            "La resta es:  3.0\n"
          ]
        }
      ]
    },
    {
      "cell_type": "code",
      "source": [
        "#Celcius a farenheith.\n",
        "def celciusFarenheith(c):\n",
        "  return c*1.8 + 32"
      ],
      "metadata": {
        "id": "gSI3XJKhY079"
      },
      "execution_count": 14,
      "outputs": []
    },
    {
      "cell_type": "code",
      "source": [
        "c = int (input(\"grados c: \"))\n",
        "f = celciusFarenheith(c)\n",
        "print(\"F: \", f)"
      ],
      "metadata": {
        "colab": {
          "base_uri": "https://localhost:8080/"
        },
        "id": "b85IlFnPZcwG",
        "outputId": "9ad038c9-a789-4437-f5dd-b1c4df78fe69"
      },
      "execution_count": 16,
      "outputs": [
        {
          "output_type": "stream",
          "name": "stdout",
          "text": [
            "grados c: 9\n",
            "F:  48.2\n"
          ]
        }
      ]
    },
    {
      "cell_type": "code",
      "source": [
        "#Farenheit a Celcius\n",
        "def farenheithCelcius(f):\n",
        "  return (f - 32) * 5/9"
      ],
      "metadata": {
        "id": "tXik4HnCZ3PF"
      },
      "execution_count": 22,
      "outputs": []
    },
    {
      "cell_type": "code",
      "source": [
        "f = float (input(\"Grados F: \"))\n",
        "c = farenheithCelcius(f)\n",
        "print(\"C: \", c)"
      ],
      "metadata": {
        "colab": {
          "base_uri": "https://localhost:8080/"
        },
        "id": "gseVUQmgbqUq",
        "outputId": "76eea9c0-1e42-426c-c0b7-46618d3579ab"
      },
      "execution_count": 23,
      "outputs": [
        {
          "output_type": "stream",
          "name": "stdout",
          "text": [
            "Grados F: 100.4\n",
            "C:  38.0\n"
          ]
        }
      ]
    },
    {
      "cell_type": "code",
      "source": [
        "#Celcius a Kelvin\n",
        "def celciusKelvin (c):\n",
        " return (c + 273.15)"
      ],
      "metadata": {
        "id": "wi3z-C65fIQ0"
      },
      "execution_count": 24,
      "outputs": []
    },
    {
      "cell_type": "code",
      "source": [
        "c = float (input(\"Grados C: \"))\n",
        "k = celciusKelvin(c)\n",
        "print(\"K: \", k)"
      ],
      "metadata": {
        "colab": {
          "base_uri": "https://localhost:8080/"
        },
        "id": "SbBd5EvSgU9j",
        "outputId": "c886f8f8-0e8e-447a-f802-33582aaf4fea"
      },
      "execution_count": 26,
      "outputs": [
        {
          "output_type": "stream",
          "name": "stdout",
          "text": [
            "Grados C: 0\n",
            "K:  273.15\n"
          ]
        }
      ]
    },
    {
      "cell_type": "code",
      "source": [
        "#Hacer un ejercicio en python haciendo de uso de funciones de usuario, que calcule el sueldo de un empleado, segun el numero de horas trabajadas y el valor por hora\n",
        "def sueldo(numHoras, ValorXhoras):\n",
        "  sueldo = numHoras * ValorXhoras * 30\n",
        "  return sueldo\n",
        ""
      ],
      "metadata": {
        "id": "Jrq1OXWlhgci"
      },
      "execution_count": 32,
      "outputs": []
    },
    {
      "cell_type": "code",
      "source": [
        "numHoras = float(input(\"Hrs: \"))\n",
        "Valorxhoras = float(input(\"valor por hora: \"))\n",
        "sueldo = sueldo(numHoras, Valorxhoras)\n",
        "print(\"Sueldo: \", sueldo)"
      ],
      "metadata": {
        "colab": {
          "base_uri": "https://localhost:8080/"
        },
        "id": "_Xjj5PvuiaPb",
        "outputId": "ce91f3d3-5169-47db-9ec5-430f33c1680b"
      },
      "execution_count": 33,
      "outputs": [
        {
          "output_type": "stream",
          "name": "stdout",
          "text": [
            "Hrs: 8\n",
            "valor por hora: 14\n",
            "Sueldo:  3360.0\n"
          ]
        }
      ]
    },
    {
      "cell_type": "code",
      "source": [
        "#Elevar un numero a exponente\n",
        "def exponenciacion(b,e):\n",
        "  return b**e\n",
        "\n",
        "b = float(input(\"Base: \"))\n",
        "e = float(input(\"Exponente: \"))\n",
        "\n",
        "resultado = exponenciacion(b,e)\n",
        "\n",
        "print(f\"{b} elevado a {e} es igual a {resultado}\")"
      ],
      "metadata": {
        "colab": {
          "base_uri": "https://localhost:8080/"
        },
        "id": "nwDzhNzNkEqc",
        "outputId": "f5fddbc0-cc0a-414d-b77e-2bb94e19e5cf"
      },
      "execution_count": 35,
      "outputs": [
        {
          "output_type": "stream",
          "name": "stdout",
          "text": [
            "Base: 8\n",
            "Exponente: 3\n",
            "8.0 elevado a 3.0 es igual a 512.0\n"
          ]
        }
      ]
    }
  ]
}